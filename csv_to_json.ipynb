{
 "cells": [
  {
   "cell_type": "code",
   "execution_count": null,
   "metadata": {},
   "outputs": [],
   "source": [
    "import pandas as pd\n",
    "import numpy as np\n"
   ]
  },
  {
   "cell_type": "code",
   "execution_count": null,
   "metadata": {},
   "outputs": [],
   "source": [
    "file_1 = pd.read_csv('P031749_TNLCF_Community_Research_England_wtd_Tables_20231114_Private.csv')\n",
    "file_1.head()"
   ]
  },
  {
   "cell_type": "markdown",
   "metadata": {},
   "source": [
    "## Functions"
   ]
  },
  {
   "cell_type": "code",
   "execution_count": null,
   "metadata": {},
   "outputs": [],
   "source": [
    "def get_subject_and_question_into_json(file):\n",
    "    subject = file['<< Contents'][0]\n",
    "    question = file['<< Contents'][2]\n",
    "    json_file = {}\n",
    "    json_file['subject'] = subject\n",
    "    json_file['question'] = question\n",
    "    return json_file\n",
    "\n",
    "def fill_with_preceding(row):\n",
    "    for i in range(1, len(row)):\n",
    "        if pd.isna(row[i]):\n",
    "            row[i] = row[i-1]\n",
    "    return row\n",
    "\n",
    "\n",
    "\n",
    "def get_json(file):\n",
    "    end_row = file[file['<< Contents'].str.contains('Columns tested', case=False, na=False)].index[0]\n",
    "    new_df = file.iloc[4:end_row]\n",
    "    to_exclude = ['Unnamed: 0','<< Contents','Unnamed: 2']\n",
    "    file_curated = new_df[[col for col in new_df.columns if col not in to_exclude]]\n",
    "    file_curated = file_curated.apply(fill_with_preceding, axis=1)\n",
    "    file_curated.columns = pd.MultiIndex.from_arrays([file_curated.iloc[0], file_curated.iloc[1]])\n",
    "    file_curated.columns = [f'{i}_{j}' for i,j in file_curated.columns]\n",
    "    file_curated.reset_index(drop=True, inplace=True)\n",
    "    file_curated.drop([0,1], inplace=True)\n",
    "    return file_curated.to_json(orient='records')\n",
    "\n",
    "def compile_json(file):\n",
    "    json_file = get_subject_and_question_into_json(file)\n",
    "    json_file['data'] = get_json(file)\n",
    "    return json_file"
   ]
  },
  {
   "cell_type": "markdown",
   "metadata": {},
   "source": [
    "## Tests"
   ]
  },
  {
   "cell_type": "code",
   "execution_count": null,
   "metadata": {},
   "outputs": [],
   "source": [
    "metadata = get_subject_and_question_into_json(file_1)"
   ]
  },
  {
   "cell_type": "code",
   "execution_count": null,
   "metadata": {},
   "outputs": [],
   "source": [
    "table_content = get_json(file_1)"
   ]
  },
  {
   "cell_type": "code",
   "execution_count": null,
   "metadata": {},
   "outputs": [],
   "source": [
    "metadata['content'] = table_content"
   ]
  },
  {
   "cell_type": "code",
   "execution_count": null,
   "metadata": {},
   "outputs": [],
   "source": [
    "## Run this to extract data from csv file\n",
    "compile_json(file_1)"
   ]
  },
  {
   "cell_type": "code",
   "execution_count": null,
   "metadata": {},
   "outputs": [],
   "source": []
  }
 ],
 "metadata": {
  "kernelspec": {
   "display_name": "Python 3",
   "language": "python",
   "name": "python3"
  },
  "language_info": {
   "codemirror_mode": {
    "name": "ipython",
    "version": 3
   },
   "file_extension": ".py",
   "mimetype": "text/x-python",
   "name": "python",
   "nbconvert_exporter": "python",
   "pygments_lexer": "ipython3",
   "version": "3.11.3"
  }
 },
 "nbformat": 4,
 "nbformat_minor": 2
}
