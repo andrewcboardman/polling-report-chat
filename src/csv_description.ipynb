{
 "cells": [
  {
   "cell_type": "code",
   "execution_count": 17,
   "metadata": {},
   "outputs": [],
   "source": [
    "import pandas as pd\n",
    "import json"
   ]
  },
  {
   "cell_type": "code",
   "execution_count": 14,
   "metadata": {},
   "outputs": [],
   "source": [
    "def get_subject_and_question_into_json(file):\n",
    "    subject = file['<< Contents'][0]\n",
    "    question = file['<< Contents'][2]\n",
    "    json_file = {}\n",
    "    json_file['subject'] = subject\n",
    "    json_file['question'] = question\n",
    "    return json_file\n",
    "\n",
    "def fill_with_preceding(row):\n",
    "    for i in range(1, len(row)):\n",
    "        if pd.isna(row[i]):\n",
    "            row[i] = row[i-1]\n",
    "    return row\n",
    "\n",
    "def fill_fields(file):\n",
    "    for i in range(1, len(file)):\n",
    "        if '%' in file['Field_Type'].iloc[i-1] and pd.isna(file['Field_Type'].iloc[i]):\n",
    "            file['Field_Type'].iloc[i] = 'Significance test for answer '+file['Field_Type'].iloc[i-2]\n",
    "        elif pd.isna(file['Field_Type'].iloc[i]):\n",
    "            file['Field_Type'].iloc[i] = file['Field_Type'].iloc[i-1] + ' ' + 'in %'\n",
    "        \n",
    "    return file\n",
    "\n",
    "def get_json(file):\n",
    "    end_row = file[file['<< Contents'].str.contains('Columns tested', case=False, na=False)].index[0]\n",
    "    new_df = file.iloc[4:end_row]\n",
    "    to_exclude = ['Unnamed: 0','Unnamed: 2']\n",
    "    file_curated = new_df[[col for col in new_df.columns if col not in to_exclude]]\n",
    "    file_curated = file_curated.rename(columns={'<< Contents': 'Field description'})\n",
    "    file_curated = file_curated.apply(fill_with_preceding, axis=1)\n",
    "    file_curated['Field description'].iloc[0] = 'Field'\n",
    "    file_curated['Field description'].iloc[1] = 'Type'\n",
    "    file_curated.columns = pd.MultiIndex.from_arrays([file_curated.iloc[0], file_curated.iloc[1]])\n",
    "    file_curated.columns = [f'{i}_{j}' for i,j in file_curated.columns]\n",
    "    file_curated.reset_index(drop=True, inplace=True)\n",
    "    file_curated.drop([0,1], inplace=True)\n",
    "    file_curated = fill_fields(file_curated)\n",
    "    return file_curated.to_json(orient='records')\n",
    "\n",
    "def compile_json(file):    \n",
    "    json_file = get_subject_and_question_into_json(file)\n",
    "    print(type(json_file))\n",
    "    json_file['data'] = json.loads(get_json(file))\n",
    "    return json_file"
   ]
  },
  {
   "cell_type": "code",
   "execution_count": 24,
   "metadata": {},
   "outputs": [
    {
     "data": {
      "text/plain": [
       "{'subject': 'Homeless and Police PR - W184',\n",
       " 'question': 'Q1. Summary : To what extent would you say that homelessness is, or is not, a problem in each of the following areas?'}"
      ]
     },
     "execution_count": 24,
     "metadata": {},
     "output_type": "execute_result"
    }
   ],
   "source": [
    "file = pd.read_csv('../data/savanta_data/polling_data0.csv')\n",
    "topic_data = get_subject_and_question_into_json(file)\n",
    "end_row = file[file['<< Contents'].str.contains('Columns tested', case=False, na=False)].index[0]\n",
    "new_df = file.iloc[4:end_row]\n",
    "to_exclude = ['Unnamed: 0','Unnamed: 2']\n",
    "answers = new_df['<< Contents'].dropna().tolist()\n"
   ]
  },
  {
   "cell_type": "code",
   "execution_count": 45,
   "metadata": {},
   "outputs": [
    {
     "name": "stdout",
     "output_type": "stream",
     "text": [
      "[nan, 'Is a big problem', 'Is somewhat a problem', \"Isn't much of a problem\", \"Isn't a problem at all\", \"Don't know\", 'Sum: Problem', 'Sum: Not a problem']\n"
     ]
    },
    {
     "name": "stderr",
     "output_type": "stream",
     "text": [
      "/var/folders/96/98pztq455vz_10h20xcst8yh0000gn/T/ipykernel_17464/710541495.py:11: FutureWarning: Series.__getitem__ treating keys as positions is deprecated. In a future version, integer keys will always be treated as labels (consistent with DataFrame behavior). To access a value by position, use `ser.iloc[pos]`\n",
      "  if pd.isna(row[i]):\n",
      "/var/folders/96/98pztq455vz_10h20xcst8yh0000gn/T/ipykernel_17464/710541495.py:12: FutureWarning: Series.__getitem__ treating keys as positions is deprecated. In a future version, integer keys will always be treated as labels (consistent with DataFrame behavior). To access a value by position, use `ser.iloc[pos]`\n",
      "  row[i] = row[i-1]\n",
      "/var/folders/96/98pztq455vz_10h20xcst8yh0000gn/T/ipykernel_17464/710541495.py:12: FutureWarning: Series.__setitem__ treating keys as positions is deprecated. In a future version, integer keys will always be treated as labels (consistent with DataFrame behavior). To set a value by position, use `ser.iloc[pos] = value`\n",
      "  row[i] = row[i-1]\n"
     ]
    }
   ],
   "source": [
    "file_curated = new_df[[col for col in new_df.columns if col not in to_exclude]]\n",
    "file_curated = file_curated.rename(columns={'<< Contents': 'Field description'})\n",
    "file_curated = file_curated.apply(fill_with_preceding, axis=1)\n",
    "if not file_curated.iloc[0].isna().all():\n",
    "    file_curated.columns = pd.MultiIndex.from_arrays([file_curated.iloc[0], file_curated.iloc[1]])\n",
    "    file_curated.columns = [f'{i}_{j}' for i,j in file_curated.columns]\n",
    "else:\n",
    "    file_curated.columns = file_curated.iloc[1]\n",
    "groups = [x for x in file_curated.columns.to_list()]\n",
    "print(groups)"
   ]
  },
  {
   "cell_type": "code",
   "execution_count": 38,
   "metadata": {},
   "outputs": [
    {
     "data": {
      "text/plain": [
       "True"
      ]
     },
     "execution_count": 38,
     "metadata": {},
     "output_type": "execute_result"
    }
   ],
   "source": []
  },
  {
   "cell_type": "code",
   "execution_count": 18,
   "metadata": {},
   "outputs": [
    {
     "name": "stdout",
     "output_type": "stream",
     "text": [
      "<class 'dict'>\n"
     ]
    },
    {
     "name": "stderr",
     "output_type": "stream",
     "text": [
      "/var/folders/96/98pztq455vz_10h20xcst8yh0000gn/T/ipykernel_17464/710541495.py:11: FutureWarning: Series.__getitem__ treating keys as positions is deprecated. In a future version, integer keys will always be treated as labels (consistent with DataFrame behavior). To access a value by position, use `ser.iloc[pos]`\n",
      "  if pd.isna(row[i]):\n",
      "/var/folders/96/98pztq455vz_10h20xcst8yh0000gn/T/ipykernel_17464/710541495.py:12: FutureWarning: Series.__getitem__ treating keys as positions is deprecated. In a future version, integer keys will always be treated as labels (consistent with DataFrame behavior). To access a value by position, use `ser.iloc[pos]`\n",
      "  row[i] = row[i-1]\n",
      "/var/folders/96/98pztq455vz_10h20xcst8yh0000gn/T/ipykernel_17464/710541495.py:12: FutureWarning: Series.__setitem__ treating keys as positions is deprecated. In a future version, integer keys will always be treated as labels (consistent with DataFrame behavior). To set a value by position, use `ser.iloc[pos] = value`\n",
      "  row[i] = row[i-1]\n",
      "/var/folders/96/98pztq455vz_10h20xcst8yh0000gn/T/ipykernel_17464/710541495.py:31: FutureWarning: ChainedAssignmentError: behaviour will change in pandas 3.0!\n",
      "You are setting values through chained assignment. Currently this works in certain cases, but when using Copy-on-Write (which will become the default behaviour in pandas 3.0) this will never work to update the original DataFrame or Series, because the intermediate object on which we are setting values will behave as a copy.\n",
      "A typical example is when you are setting values in a column of a DataFrame, like:\n",
      "\n",
      "df[\"col\"][row_indexer] = value\n",
      "\n",
      "Use `df.loc[row_indexer, \"col\"] = values` instead, to perform the assignment in a single step and ensure this keeps updating the original `df`.\n",
      "\n",
      "See the caveats in the documentation: https://pandas.pydata.org/pandas-docs/stable/user_guide/indexing.html#returning-a-view-versus-a-copy\n",
      "\n",
      "  file_curated['Field description'].iloc[0] = 'Field'\n",
      "/var/folders/96/98pztq455vz_10h20xcst8yh0000gn/T/ipykernel_17464/710541495.py:32: FutureWarning: ChainedAssignmentError: behaviour will change in pandas 3.0!\n",
      "You are setting values through chained assignment. Currently this works in certain cases, but when using Copy-on-Write (which will become the default behaviour in pandas 3.0) this will never work to update the original DataFrame or Series, because the intermediate object on which we are setting values will behave as a copy.\n",
      "A typical example is when you are setting values in a column of a DataFrame, like:\n",
      "\n",
      "df[\"col\"][row_indexer] = value\n",
      "\n",
      "Use `df.loc[row_indexer, \"col\"] = values` instead, to perform the assignment in a single step and ensure this keeps updating the original `df`.\n",
      "\n",
      "See the caveats in the documentation: https://pandas.pydata.org/pandas-docs/stable/user_guide/indexing.html#returning-a-view-versus-a-copy\n",
      "\n",
      "  file_curated['Field description'].iloc[1] = 'Type'\n",
      "/var/folders/96/98pztq455vz_10h20xcst8yh0000gn/T/ipykernel_17464/710541495.py:20: FutureWarning: ChainedAssignmentError: behaviour will change in pandas 3.0!\n",
      "You are setting values through chained assignment. Currently this works in certain cases, but when using Copy-on-Write (which will become the default behaviour in pandas 3.0) this will never work to update the original DataFrame or Series, because the intermediate object on which we are setting values will behave as a copy.\n",
      "A typical example is when you are setting values in a column of a DataFrame, like:\n",
      "\n",
      "df[\"col\"][row_indexer] = value\n",
      "\n",
      "Use `df.loc[row_indexer, \"col\"] = values` instead, to perform the assignment in a single step and ensure this keeps updating the original `df`.\n",
      "\n",
      "See the caveats in the documentation: https://pandas.pydata.org/pandas-docs/stable/user_guide/indexing.html#returning-a-view-versus-a-copy\n",
      "\n",
      "  file['Field_Type'].iloc[i] = file['Field_Type'].iloc[i-1] + ' ' + 'in %'\n"
     ]
    },
    {
     "data": {
      "text/plain": [
       "{'subject': 'Homeless and Police PR - W184',\n",
       " 'question': 'Q1. Summary : To what extent would you say that homelessness is, or is not, a problem in each of the following areas?',\n",
       " 'data': [{'Field_Type': 'Significance Level: 95%',\n",
       "   'nan_Is a big problem': '*a',\n",
       "   'nan_Is somewhat a problem': '*b',\n",
       "   \"nan_Isn't much of a problem\": '*c',\n",
       "   \"nan_Isn't a problem at all\": '*d',\n",
       "   \"nan_Don't know\": '*e',\n",
       "   'nan_Sum: Problem': '*f',\n",
       "   'nan_Sum: Not a problem': '*g'},\n",
       "  {'Field_Type': \"In the UK's big cities\",\n",
       "   'nan_Is a big problem': '1217',\n",
       "   'nan_Is somewhat a problem': '701',\n",
       "   \"nan_Isn't much of a problem\": '180',\n",
       "   \"nan_Isn't a problem at all\": '65',\n",
       "   \"nan_Don't know\": '73',\n",
       "   'nan_Sum: Problem': '1917',\n",
       "   'nan_Sum: Not a problem': '245'},\n",
       "  {'Field_Type': \"In the UK's big cities in %\",\n",
       "   'nan_Is a big problem': '0.54',\n",
       "   'nan_Is somewhat a problem': '0.31',\n",
       "   \"nan_Isn't much of a problem\": '0.08',\n",
       "   \"nan_Isn't a problem at all\": '0.03',\n",
       "   \"nan_Don't know\": '0.03',\n",
       "   'nan_Sum: Problem': '0.86',\n",
       "   'nan_Sum: Not a problem': '0.11'},\n",
       "  {'Field_Type': 'In the UK generally',\n",
       "   'nan_Is a big problem': '985',\n",
       "   'nan_Is somewhat a problem': '901',\n",
       "   \"nan_Isn't much of a problem\": '226',\n",
       "   \"nan_Isn't a problem at all\": '47',\n",
       "   \"nan_Don't know\": '76',\n",
       "   'nan_Sum: Problem': '1886',\n",
       "   'nan_Sum: Not a problem': '273'},\n",
       "  {'Field_Type': 'In the UK generally in %',\n",
       "   'nan_Is a big problem': '0.44',\n",
       "   'nan_Is somewhat a problem': '0.4',\n",
       "   \"nan_Isn't much of a problem\": '0.1',\n",
       "   \"nan_Isn't a problem at all\": '0.02',\n",
       "   \"nan_Don't know\": '0.03',\n",
       "   'nan_Sum: Problem': '0.84',\n",
       "   'nan_Sum: Not a problem': '0.12'},\n",
       "  {'Field_Type': 'In your neighbourhood',\n",
       "   'nan_Is a big problem': '270',\n",
       "   'nan_Is somewhat a problem': '626',\n",
       "   \"nan_Isn't much of a problem\": '776',\n",
       "   \"nan_Isn't a problem at all\": '474',\n",
       "   \"nan_Don't know\": '89',\n",
       "   'nan_Sum: Problem': '896',\n",
       "   'nan_Sum: Not a problem': '1250'},\n",
       "  {'Field_Type': 'In your neighbourhood in %',\n",
       "   'nan_Is a big problem': '0.12',\n",
       "   'nan_Is somewhat a problem': '0.28',\n",
       "   \"nan_Isn't much of a problem\": '0.35',\n",
       "   \"nan_Isn't a problem at all\": '0.21',\n",
       "   \"nan_Don't know\": '0.04',\n",
       "   'nan_Sum: Problem': '0.4',\n",
       "   'nan_Sum: Not a problem': '0.56'}]}"
      ]
     },
     "execution_count": 18,
     "metadata": {},
     "output_type": "execute_result"
    }
   ],
   "source": [
    "input_file = pd.read_csv('../data/savanta_data/polling_data0.csv')\n",
    "output = compile_json(input_file)\n",
    "output"
   ]
  }
 ],
 "metadata": {
  "kernelspec": {
   "display_name": ".venv",
   "language": "python",
   "name": "python3"
  },
  "language_info": {
   "codemirror_mode": {
    "name": "ipython",
    "version": 3
   },
   "file_extension": ".py",
   "mimetype": "text/x-python",
   "name": "python",
   "nbconvert_exporter": "python",
   "pygments_lexer": "ipython3",
   "version": "3.9.6"
  }
 },
 "nbformat": 4,
 "nbformat_minor": 2
}
